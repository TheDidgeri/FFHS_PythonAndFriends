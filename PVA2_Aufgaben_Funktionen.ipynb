{
 "cells": [
  {
   "cell_type": "markdown",
   "id": "3836f982-b434-4363-86b7-fcf50d0032e9",
   "metadata": {},
   "source": [
    "# Aufgaben zu Funktionen"
   ]
  },
  {
   "cell_type": "markdown",
   "id": "22b885ef-89d0-4f65-9239-f4d88bc61efd",
   "metadata": {},
   "source": [
    "### Aufgabe 1\n",
    "Schreiben Sie die folgenden Funktionen als Python-Funktionen:\n",
    "\n",
    "* $f(n) = \\frac{n \\cdot(n-1)}2 $\n",
    "* $g(x, y) = x^y -10 $\n",
    "* $a(x) = |x| $\n",
    "* $k(n) = n/2 $ falls n gerade <br>\n",
    "  $k(n) = 3n+1$ falls n ungerade"
   ]
  },
  {
   "cell_type": "code",
   "execution_count": null,
   "id": "404e0402-9338-4d60-be45-9b1de631be54",
   "metadata": {},
   "outputs": [],
   "source": [
    "Done"
   ]
  },
  {
   "cell_type": "markdown",
   "id": "1b6c3cd9-a260-48b8-919c-cd9a9275f560",
   "metadata": {},
   "source": [
    "### Aufgabe 2\n",
    "Was ist der Unterschied zwischen den beiden folgenden Funktionen:"
   ]
  },
  {
   "cell_type": "code",
   "execution_count": null,
   "id": "a66e3b76-959a-499c-b365-beab2655669e",
   "metadata": {},
   "outputs": [],
   "source": [
    "def quadrat_r(n) :\n",
    "    return n * n\n",
    "\n",
    "def quadrat_p(n) :\n",
    "    print(n * n)"
   ]
  },
  {
   "cell_type": "markdown",
   "id": "93aebfe8-2d25-4e2b-b796-6e4c4086b9a3",
   "metadata": {},
   "source": []
  },
  {
   "cell_type": "markdown",
   "id": "f8fb7ea2-aa70-48db-8ec8-da11b55195fc",
   "metadata": {},
   "source": [
    "### Aufgabe 3\n",
    "Schreiben Sie eine Funktion, die die Elemente einer Liste zeilenweise ausdruckt."
   ]
  },
  {
   "cell_type": "code",
   "execution_count": 2,
   "id": "78c268dd-8140-4be3-8b7a-eace03069a49",
   "metadata": {},
   "outputs": [
    {
     "name": "stdout",
     "output_type": "stream",
     "text": [
      "erstes\n",
      "zweites\n",
      "drittes\n",
      "viertes\n"
     ]
    }
   ],
   "source": [
    "myList = ['erstes', 'zweites', 'drittes', 'viertes']\n",
    "\n",
    "for item in myList:\n",
    "    print(item)"
   ]
  },
  {
   "cell_type": "markdown",
   "id": "11e32ebb-8aea-4fe0-8916-3aac3afb3a3d",
   "metadata": {},
   "source": [
    "### Aufgabe 4\n",
    "Definieren Sie eine Funktion fak(n), die das Produkt aller natürlichen Zahlen zwischen 1 bis n berechnet."
   ]
  },
  {
   "cell_type": "code",
   "execution_count": null,
   "id": "d3242cc3-b09e-411c-997d-ca0d5ee4ca16",
   "metadata": {},
   "outputs": [],
   "source": [
    "def fakultät(n): #Funktion immer mit : abschliessen\n",
    "    produkt = 1\n",
    "    for zahl in range(1, n + 1):\n",
    "        produkt *= zahl #verkürzte Schreibweise für produkt = produkt * zahl.\n",
    "    return produkt\n",
    "\n",
    "# Beispielaufrufe der Funktion\n",
    "print(fakultät(5))  # Ausgabe: 120 (da 1 * 2 * 3 * 4 * 5 = 120)\n",
    "print(fakultät(10)) # Ausgabe: 3628800 (da 1 * 2 * 3 * ... * 9 * 10 = 3628800)\n"
   ]
  },
  {
   "cell_type": "markdown",
   "id": "93e3a662-4d9c-491b-bb5d-700797a87379",
   "metadata": {},
   "source": [
    "### Aufgabe 5\n",
    "Schreiben Sie eine Funktion is_prime(n), die entscheidet, ob n eine Primzahl sei."
   ]
  },
  {
   "cell_type": "code",
   "execution_count": null,
   "id": "31d3596e-a23b-4930-8eea-59788e802430",
   "metadata": {},
   "outputs": [],
   "source": [
    "def is_prime(n):\n",
    "    if n <= 1:\n",
    "        return False  # 1 ist keine Primzahl\n",
    "\n",
    "    for teiler in range(2, int(n**0.5) + 1):\n",
    "        if n % teiler == 0:\n",
    "            return False  # Die Zahl ist durch einen Teiler teilbar, also keine Primzahl\n",
    "    return True\n",
    "\n",
    "# Beispielaufrufe der Funktion\n",
    "print(ist_primzahl(7))  # Ausgabe: True (7 ist eine Primzahl)\n",
    "print(ist_primzahl(12)) # Ausgabe: False (12 ist keine Primzahl)\n"
   ]
  },
  {
   "cell_type": "markdown",
   "id": "07741b90-a402-4eb0-8142-665c7198464e",
   "metadata": {},
   "source": [
    "## Aufgabe 6\n",
    "Eine Collatz-Folge ist eine Folge von natürlichen Zahlen $n_1, n_2, n_3,\\dots,n_m$ mit folgenden Eigenschaften:\n",
    "\n",
    "* $ n_1$ ist beliebig\n",
    "* $ n_m = 1 $, aber für $i<m$ ist $n_i\\neq 1$\n",
    "* Falls $n_i$ gerade ist, dann gilt $n_{i+1} = n_i/2 $\n",
    "* Falls $n_i$ ungerade ist, dann gilt $n_{i+1} = 3n_i+1 $\n",
    "\n",
    "Beispiel: 7, 22, 11, 34, 17, 52, 26, 13, 40, 20, 10, 5, 16, 8, 4, 2, 1.  \n",
    "Scheiben Sie eine Funkton `collatz(n)`, die für eine gegebene natürliche Zahl $n$ die mit $n$ beginnende Collatz-Folge ausdruckt (eine Zahl pro Zeile). "
   ]
  },
  {
   "cell_type": "code",
   "execution_count": 1,
   "id": "dcb96737-c478-4421-8199-b043b908185b",
   "metadata": {},
   "outputs": [
    {
     "name": "stdout",
     "output_type": "stream",
     "text": [
      "Collatz-Folge für 6 : [6, 3, 10, 5, 16, 8, 4, 2, 1]\n"
     ]
    }
   ],
   "source": [
    "def collatz_sequence(n):\n",
    "    sequence = [n]\n",
    "    while n != 1: #ungleich 1 sonst ist fertig\n",
    "        if n % 2 == 0:\n",
    "            n = n // 2\n",
    "        else:\n",
    "            n = 3 * n + 1\n",
    "        sequence.append(n)\n",
    "    return sequence\n",
    "\n",
    "# Beispielaufruf für die Zahl 6\n",
    "number = 6\n",
    "print(\"Collatz-Folge für\", number, \":\", collatz_sequence(number))"
   ]
  },
  {
   "cell_type": "markdown",
   "id": "a3a01aa5-fa5a-4fed-a3e2-846d88a262f4",
   "metadata": {},
   "source": [
    "### Aufgabe 7\n",
    "Scheiben Sie eine Funktion `collatz_folge(n)`, die für eine gegebene natürliche Zahl $n$ die mit $n$ beginnende Collatz-Folge als Liste zurückgibt. "
   ]
  },
  {
   "cell_type": "code",
   "execution_count": null,
   "id": "7841f24e",
   "metadata": {},
   "outputs": [],
   "source": [
    "#Done"
   ]
  },
  {
   "cell_type": "markdown",
   "id": "74ce126a-a072-4826-a87c-fec0fc5fb3c7",
   "metadata": {},
   "source": [
    "### Aufgabe 8\n",
    "Die Fibonacci-Folge ist die Folge 0, 1, 1, 2, 3, 5, 8, 13, 21, 34, 55, 89,...\n",
    "\n",
    "Formal ist die Fibonacci-Folge definiert durch\n",
    "\\begin{align*}\n",
    "f_0 &= 0 \\\\\n",
    "f_1 &= 1 \\\\\n",
    "f_{n} &= f_{n-2} + f_{n-1}\\ \\text{falls}\\ n \\geq 2\n",
    "\\end{align*}\n",
    "Schreiben Sie eine Funktion fib(n), die die $n$-te Fibonacci-Zahl berechnet."
   ]
  },
  {
   "cell_type": "code",
   "execution_count": null,
   "id": "a54feedd-f9ca-499f-a140-20d51278fc74",
   "metadata": {
    "tags": []
   },
   "outputs": [],
   "source": [
    "def fib(n):\n",
    "    if <= 1:\n",
    "        return n\n",
    "    else:\n",
    "        return fib(n-2) + fib(n-1)\n",
    "# Beispiel\n",
    "    n = 10\n",
    "    print(fib())"
   ]
  },
  {
   "cell_type": "markdown",
   "id": "040d715b",
   "metadata": {},
   "source": [
    "### Aufgabe 9\n",
    "Schreiben Sie eine Funktion, die zwei Listen von Zahlen elementweise addiert; wenn die beiden Listen unterschiedlich lang sind, dann soll die kürzere mit Nullen aufgefüllt werden. "
   ]
  },
  {
   "cell_type": "code",
   "execution_count": null,
   "id": "902b9c5d-de04-4885-83ef-21b032e1967e",
   "metadata": {},
   "outputs": [],
   "source": [
    "def add_lists(list1, list2):\n",
    "    # Bestimme die maximale Länge der beiden Listen\n",
    "    max_length = max(len(list1), len(list2))\n",
    "    \n",
    "    # Verwende List Comprehension, um die Listen mit Nullen aufzufüllen und sie dann elementweise zu addieren\n",
    "    return [x + y for x, y in zip(list1 + [0] * (max_length - len(list1)), list2 + [0] * (max_length - len(list2)))]\n",
    "# x+y heisst es nimt x von einer liste und y von einer anderen liste und macht eine list comprehension und addiert diese.\n",
    "# Zip macht ein Tubel (unveraenderliche, geordnete Sammlung von Elementen). Anzahl Elemente minus - Elemente liste 1 mit nullen auffuellen wenn es weniger sind.\n",
    "# Gleiche fuer liste 2\n",
    "\n",
    "# Beispielaufruf:\n",
    "list1 = [1, 2, 3, 4]\n",
    "list2 = [5, 6, 7]\n",
    "print(add_lists(list1, list2))"
   ]
  },
  {
   "cell_type": "markdown",
   "id": "935661cc-613c-44a8-9c4f-05a0ca3651b6",
   "metadata": {},
   "source": [
    "### Aufgabe 10\n",
    "Schreiben Sie eine Funktion, die zwei Listen reißverschlussartig zusammenführt. <br>\n",
    "(Beispiel: reissverschluss([a1, a2, a3], [b1, b2, b3]) = [a1, b1, a2, b2, a3, b3].)"
   ]
  },
  {
   "cell_type": "code",
   "execution_count": null,
   "id": "8bfc629f-7bbc-4113-9744-60362aa69c52",
   "metadata": {},
   "outputs": [],
   "source": []
  },
  {
   "cell_type": "markdown",
   "id": "a9ff4489-a6b4-4f28-a599-57bd769f039a",
   "metadata": {},
   "source": [
    "### Aufgabe 11\n",
    "Schreiben Sie eine Funktion, die zählt, wie oft ein Element in einer Liste vorkommt. Das Resultat der Funktion sei ein Dictionary, dessen Schlüssel die Listenelemente sind, und die Werte seien die Anzahlen, wie oft ein Element vorkommt."
   ]
  },
  {
   "cell_type": "code",
   "execution_count": null,
   "id": "dcf11579-4de3-4c3b-b382-032195409f47",
   "metadata": {},
   "outputs": [],
   "source": []
  },
  {
   "cell_type": "markdown",
   "id": "c623cbd8-c326-4122-8791-e0d4944e5e6c",
   "metadata": {},
   "source": [
    "### Aufgabe 12\n",
    "Schreiben Sie eine Funktion umkehrung(dic), die das Dictionary umdreht und als Resultat ein Dictionary dic2 liefert: dabei sind die Schlüssel von dic2 die Werte von dic, und die Werte von dic2 sind Mengen von Schlüsseln von dic, wobei dic2[v] die Menge aller Schlüssel s ist mit dic[s] = v."
   ]
  },
  {
   "cell_type": "code",
   "execution_count": null,
   "id": "663dd053-55b5-4c17-94be-dc252e2fcf9e",
   "metadata": {},
   "outputs": [],
   "source": [
    "def umkehrung(dic) :\n",
    "    result = {}\n",
    "    for key, val in dic.items() :\n",
    "        if val in result :\n",
    "            result[val].add(key)\n",
    "        else :\n",
    "            result[val] = {key}\n",
    "    return result"
   ]
  },
  {
   "cell_type": "code",
   "execution_count": null,
   "id": "dd70ad46-e489-42f9-84eb-22d592a937ca",
   "metadata": {},
   "outputs": [],
   "source": []
  },
  {
   "cell_type": "markdown",
   "id": "190842f9-3419-4eab-8dca-3982d373a9a1",
   "metadata": {},
   "source": [
    "### Aufgabe 13\n",
    "Erstellen Sie eine Funktion nahe(x, y) mit booleschem Rückgabewert, je nachdem sich x und y maximal um einen Toleranzwert tol=0.001 unterscheiden. Dieser Toleranzwert sollte mit einem dritten Argument auch explizit angegeben werden können."
   ]
  },
  {
   "cell_type": "code",
   "execution_count": null,
   "id": "30afd220-d621-41db-9655-13146a267b15",
   "metadata": {},
   "outputs": [],
   "source": []
  },
  {
   "cell_type": "markdown",
   "id": "dbfa1303-d217-404f-bd61-060aa527ee65",
   "metadata": {},
   "source": [
    "### Aufgabe 14\n",
    "Definieren Sie eine Funktion summe(s1, s2,...,sn), die alle Argumente zusammenzählt."
   ]
  },
  {
   "cell_type": "code",
   "execution_count": null,
   "id": "d4d8ae96-8105-4a10-ac75-f05fc206b76d",
   "metadata": {},
   "outputs": [],
   "source": []
  },
  {
   "cell_type": "markdown",
   "id": "7f796f26-428f-4871-ad87-9f64e7013344",
   "metadata": {},
   "source": [
    "### Aufgabe 15\n",
    "Schreiben Sie eine Funktion sort(X, n), die eine Liste $X$ von Tupeln sortiert nach der $n$-ten Komponente."
   ]
  },
  {
   "cell_type": "code",
   "execution_count": null,
   "id": "ff11d7f6-ccce-4c84-b1f8-947e433424e9",
   "metadata": {},
   "outputs": [],
   "source": []
  },
  {
   "cell_type": "markdown",
   "id": "e4e1c014-1efc-43e8-9e84-74ecd3dbf6aa",
   "metadata": {},
   "source": [
    "### Aufgabe 16\n",
    "Erstellen Sie eine Funktion `ungefaehr_gleich(ist, soll=0, tol=0.01)`.   \n",
    "Das Resultat sei ein Boolean, das besagt, ob `abs(ist-soll) < tol`.    \n",
    "* `ist` sei ein «positional Argument»,\n",
    "* `soll` kann sowohl «positional» als auch als «Keyword Argument» sein,\n",
    "* `tol` sei ein «Keyword Argument»."
   ]
  },
  {
   "cell_type": "code",
   "execution_count": null,
   "id": "590a6a1b-3427-41ac-bc54-8de9197fe736",
   "metadata": {
    "tags": []
   },
   "outputs": [],
   "source": []
  },
  {
   "cell_type": "markdown",
   "id": "ba630e99-2c8a-4b43-a7e0-14a0c88db2ac",
   "metadata": {},
   "source": [
    "### Aufgabe 17\n",
    "Schreiben Sie eine Funktion `schnitt(x1, x2,...,xn)`, die den Notendurchschnitt der Noten x1, x2,...,xn berechne, wobei die schlechteste Note eine Streichnote sei."
   ]
  },
  {
   "cell_type": "code",
   "execution_count": null,
   "id": "d82f9589-0c3f-4f41-a685-403f9c473c10",
   "metadata": {},
   "outputs": [],
   "source": []
  },
  {
   "cell_type": "markdown",
   "id": "271924b0-6a52-4ce6-993f-9de95b0d4cf0",
   "metadata": {},
   "source": [
    "### Aufgabe 18\n",
    "Programmieren Sie eine Python-Funktion `app2`, die einen Parameter und eine Funktion übergeben bekommt und die Funktion zweimal auf den Parameter anwendet. Beispiel:  \n",
    "    `>>> app2(lambda x: x+1, 10)`  \n",
    "    `12`  \n",
    "    `>>> app2(lambda x: x**2, 3)`  \n",
    "    `81`"
   ]
  },
  {
   "cell_type": "code",
   "execution_count": null,
   "id": "a4e2805c-eb03-466b-8211-8aca364b6913",
   "metadata": {},
   "outputs": [],
   "source": []
  },
  {
   "cell_type": "markdown",
   "id": "33939bad-5648-4180-b87c-d0e2f0041e27",
   "metadata": {},
   "source": [
    "### Aufgabe 19\n",
    "Programmieren Sie eine Python-Funktion `app_n`, die eine Funktion, einen Wert und eine Ganzzahl n übergeben bekommt und die Funktion $n$-mal auf den Wert anwendet. Beispiel:  \n",
    "`>>> app_n(lambda x: x+1, 10, 3)`  \n",
    "`13`"
   ]
  },
  {
   "cell_type": "code",
   "execution_count": null,
   "id": "9c5cc5fa-d98d-4360-a6f1-980eb0716774",
   "metadata": {},
   "outputs": [],
   "source": []
  },
  {
   "cell_type": "markdown",
   "id": "00b526f9-24c5-4c34-9193-1ebba5178fae",
   "metadata": {},
   "source": [
    "### Aufgabe 20\n",
    "Programmieren Sie eine Funktion `take_while`, die eine boolesche Funktion p (ein «Prädikat») und eine Sequenz l übergeben bekommt, und das längste Anfangsstück von l zurückliefert, für dessen Elemente das\n",
    "Prädikat p gilt. Beispielanwendungen:  \n",
    "\n",
    "`>>> take_while(lambda x: x>10, [50,20,12,7,5,30,100])`   \n",
    "`[50, 20, 12]`   \n",
    "`>>> take_while(lambda x: len(x) > 4, \"Hallo World here i am\".split())`   \n",
    "`['Hallo', 'World']`"
   ]
  }
 ],
 "metadata": {
  "kernelspec": {
   "display_name": "Python 3 (ipykernel)",
   "language": "python",
   "name": "python3"
  },
  "language_info": {
   "codemirror_mode": {
    "name": "ipython",
    "version": 3
   },
   "file_extension": ".py",
   "mimetype": "text/x-python",
   "name": "python",
   "nbconvert_exporter": "python",
   "pygments_lexer": "ipython3",
   "version": "3.12.0"
  }
 },
 "nbformat": 4,
 "nbformat_minor": 5
}
